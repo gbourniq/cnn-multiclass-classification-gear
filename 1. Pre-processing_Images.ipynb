{
 "cells": [
  {
   "cell_type": "markdown",
   "metadata": {},
   "source": [
    "## Image Preprocessing"
   ]
  },
  {
   "cell_type": "markdown",
   "metadata": {},
   "source": [
    "The current product images are raw, unformatted pixel data. Before the images can be used to train a custom model, the image data needs preprocessing to create new pixel data in a normalised, clean format, so that images are comparable within the dataset.\n",
    "\n",
    "Images may have glare, saturation differences, exposure differences, contrast issues, all that could make one set of pixels not comparable to the next. Some possible preprocessing steps are: contrast enhancement, rotation, translation, and feature extraction through various transformations.\n",
    "\n",
    "In our case, we will transform all images to a particular format: 128x128x3 pixels (this means a 3-channel, 128x128 pixel square image)"
   ]
  },
  {
   "cell_type": "code",
   "execution_count": 42,
   "metadata": {},
   "outputs": [],
   "source": [
    "import numpy as np\n",
    "import matplotlib.pyplot as plt\n",
    "import matplotlib.image as mpimg\n",
    "from PIL import Image\n",
    "from PIL import ImageOps\n",
    "import urllib3\n",
    "import sys\n",
    "import os\n",
    "%matplotlib inline"
   ]
  },
  {
   "cell_type": "code",
   "execution_count": 36,
   "metadata": {},
   "outputs": [],
   "source": [
    "def resize(image_name, dirPath):\n",
    "    \"\"\"\n",
    "    Pick a basic color (Black) and pad the images that do not have a 1:1 aspect ratio.\n",
    "    Reshape without stretching to a 128x128 pixel array shape\n",
    "    \"\"\"\n",
    "    \n",
    "    image_path = full_directory + image_name\n",
    "    im = Image.open(image_path)\n",
    "        \n",
    "    desired_size = 128\n",
    "    old_size = im.size  # old_size[0] is in (width, height) format\n",
    "\n",
    "    ratio = float(desired_size)/max(old_size)\n",
    "    new_size = tuple([int(x*ratio) for x in old_size])\n",
    "\n",
    "    im = im.resize(new_size, Image.ANTIALIAS)\n",
    "    \n",
    "    # create a new image and paste the resized on it\n",
    "    new_im = Image.new(\"RGB\", (desired_size, desired_size))\n",
    "    new_im.paste(im, ((desired_size-new_size[0])//2,\n",
    "                        (desired_size-new_size[1])//2))\n",
    "\n",
    "    delta_w = desired_size - new_size[0]\n",
    "    delta_h = desired_size - new_size[1]\n",
    "    padding = (delta_w//2, delta_h//2, delta_w-(delta_w//2), delta_h-(delta_h//2))\n",
    "    new_im = ImageOps.expand(im, padding)\n",
    "\n",
    "    filename, file_extension = os.path.splitext(image_name)\n",
    "    new_filename = filename + \"_resized.jpeg\"\n",
    "    new_im.save(full_directory + new_filename, \"JPEG\")\n",
    "    \n",
    "    return new_filename"
   ]
  },
  {
   "cell_type": "code",
   "execution_count": 37,
   "metadata": {},
   "outputs": [],
   "source": [
    "def equalize_image(image_name, dirPath): #\"imagename_resized.JPEG\"\n",
    "    \"\"\"\n",
    "    Ensure for each image that the pixel range is [0,255] (constrast stretching)\n",
    "    by applying the equalise method (normalise works also)\n",
    "    \"\"\"\n",
    "    \n",
    "    image_path = full_directory + image_name\n",
    "    im = Image.open(image_path)\n",
    "    \n",
    "    # Plotting histogram for resized image\n",
    "    #im_array = np.array(im)\n",
    "    #plt.hist(im_array.flatten(), bins=50, range=(0.0, 300))\n",
    "    \n",
    "    # Equalize image\n",
    "    im_out = ImageOps.equalize(im)\n",
    "    \n",
    "    # Save equalized image\n",
    "    filename, file_extension = os.path.splitext(image_name) \n",
    "    new_filename = filename + \"_equalized.jpeg\"\n",
    "    im_out.save(full_directory + new_filename, \"JPEG\")\n",
    "    \n",
    "    return new_filename\n",
    "    "
   ]
  },
  {
   "cell_type": "markdown",
   "metadata": {},
   "source": [
    "#### Loop through all images within the gear_images folder, and apply the resize and equalise functions"
   ]
  },
  {
   "cell_type": "code",
   "execution_count": null,
   "metadata": {},
   "outputs": [],
   "source": [
    "rootDir = \"gear_images/\"\n",
    "directories = ['axes', 'boots', 'carabiners', 'crampons', 'gloves', 'hardshell_jackets', 'harnesses',\n",
    "              'helmets', 'insulated_jackets', 'pulleys', 'rope', 'tents']\n",
    "\n",
    "number_files = 0\n",
    "for subDirectory in subDirectories:\n",
    "    dirPath = rootDir + '/' + subDirectory\n",
    "    filelist = os.listdir(dirPath) # dir is your directory path\n",
    "    number_files += len(filelist)\n",
    "print(number_files)\n",
    "\n",
    "progress = 0\n",
    "\n",
    "for directory in directories:   \n",
    "    folderPath = rootDir + '/' + directory + '/'\n",
    "    print('Folder: {}'.format(folderPath))\n",
    "    \n",
    "    for fname in os.listdir(folderPath):\n",
    "\n",
    "        # Image Processing\n",
    "        try:\n",
    "            resized_image_name = resize(fname, folderPath)\n",
    "            equalized_image_name = equalize_image(resized_image_name, folderPath)\n",
    "        except Exception as e:\n",
    "            print('Following exception occured during the processing of {}: {}'.format(fname, str(e)))\n",
    "\n",
    "        # Clearning up\n",
    "        try:\n",
    "            os.remove(folderPath + fname)\n",
    "        except Exception as e:\n",
    "            print('Exception occured when removing {} : {}'.format(fname, str(e)))\n",
    "        try:\n",
    "            os.remove(resized_image_name)\n",
    "        except Exception as e:\n",
    "            print('Exception occured when removing {} : {}'.format(resized_image_name, str(e)))\n",
    "\n",
    "        progress += 1\n",
    "\n",
    "        if progress % 100 == 0:\n",
    "            print('Current progress : {}/{}'.format(str(progress), str(number_files)))"
   ]
  }
 ],
 "metadata": {
  "kernelspec": {
   "display_name": "Python 3",
   "language": "python",
   "name": "python3"
  },
  "language_info": {
   "codemirror_mode": {
    "name": "ipython",
    "version": 3
   },
   "file_extension": ".py",
   "mimetype": "text/x-python",
   "name": "python",
   "nbconvert_exporter": "python",
   "pygments_lexer": "ipython3",
   "version": "3.7.1"
  }
 },
 "nbformat": 4,
 "nbformat_minor": 2
}
