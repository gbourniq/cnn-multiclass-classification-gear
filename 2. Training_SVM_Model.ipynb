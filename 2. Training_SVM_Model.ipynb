{
 "cells": [
  {
   "cell_type": "markdown",
   "metadata": {},
   "source": [
    "## Machine Learning with Scikit-Learn\n",
    "\n",
    "Scikit-Learn has simple and intuitive API to start learning and implementing traditional ML algorithms.\n",
    "\n",
    "Here we will use two classification methods to create a model to predict the category of a new gear image, training on the preprocessed 128x128x3 gear data from the previous step. The two classification models will be evaluated and their accuracy will be compared."
   ]
  },
  {
   "cell_type": "code",
   "execution_count": 1,
   "metadata": {},
   "outputs": [],
   "source": [
    "import os\n",
    "import pandas as pd\n",
    "import numpy as np\n",
    "from PIL import Image\n",
    "from scipy.stats import randint\n",
    "\n",
    "from sklearn.utils import shuffle\n",
    "from sklearn.model_selection import train_test_split\n",
    "from sklearn.model_selection import cross_val_score\n",
    "from sklearn.model_selection import RandomizedSearchCV\n",
    "from sklearn.tree import DecisionTreeClassifier\n",
    "from sklearn.svm import SVC\n",
    "from sklearn.metrics import confusion_matrix\n",
    "from sklearn.metrics import classification_report\n",
    "from sklearn.metrics import accuracy_score"
   ]
  },
  {
   "cell_type": "markdown",
   "metadata": {},
   "source": [
    "Label encoder function to have the predicted labels as numbers"
   ]
  },
  {
   "cell_type": "code",
   "execution_count": 2,
   "metadata": {},
   "outputs": [],
   "source": [
    "def label_encoder(key):\n",
    "    label_mapping = {\n",
    "        \"axes\" : \"1\",\n",
    "        \"boots\" : \"2\",\n",
    "        \"carabiners\" : \"3\",\n",
    "        \"crampons\" : \"4\",\n",
    "        \"gloves\" : \"5\",\n",
    "        \"hardshell_jackets\" : \"6\",\n",
    "        \"harnesses\" : \"7\",\n",
    "        \"helmets\" : \"8\",\n",
    "        \"insulated_jackets\" : \"9\",\n",
    "        \"pulleys\" : \"10\",\n",
    "        \"rope\" : \"11\",\n",
    "        \"tents\" : \"12\",\n",
    "    }\n",
    "    return int(label_mapping[key])"
   ]
  },
  {
   "cell_type": "markdown",
   "metadata": {},
   "source": [
    "#### Generate Dataframe\n",
    "Create a dataframe containing the pixel image array and associate category for each image"
   ]
  },
  {
   "cell_type": "code",
   "execution_count": 3,
   "metadata": {},
   "outputs": [
    {
     "name": "stdout",
     "output_type": "stream",
     "text": [
      "Folder: gear_images//axes/\n",
      "Folder: gear_images//boots/\n",
      "Folder: gear_images//carabiners/\n",
      "Folder: gear_images//crampons/\n",
      "Folder: gear_images//gloves/\n",
      "Folder: gear_images//hardshell_jackets/\n",
      "Folder: gear_images//harnesses/\n",
      "Folder: gear_images//helmets/\n",
      "Folder: gear_images//insulated_jackets/\n",
      "Folder: gear_images//pulleys/\n",
      "Folder: gear_images//rope/\n",
      "Folder: gear_images//tents/\n"
     ]
    }
   ],
   "source": [
    "rootDir = 'gear_images/'\n",
    "directories = ['axes', 'boots', 'carabiners', 'crampons', 'gloves', 'hardshell_jackets', 'harnesses',\n",
    "              'helmets', 'insulated_jackets', 'pulleys', 'rope', 'tents']\n",
    "\n",
    "\n",
    "df = pd.DataFrame()\n",
    "category = [] # List of labels (numbered [1,12])\n",
    "pixel_array = [] # List of Flatten Pixel array for each image\n",
    "\n",
    "for directory in directories:   \n",
    "    folderPath = rootDir + '/' + directory + '/'\n",
    "    print('Folder: {}'.format(folderPath))\n",
    "    for fname in os.listdir(folderPath):\n",
    "        if fname.endswith('resized_equalized.jpeg'):\n",
    "            im = Image.open(folderPath + fname)\n",
    "            im_array = np.array(im, dtype=float).flatten()\n",
    "            \n",
    "            # Append data to list\n",
    "            category.append(label_encoder(directory))\n",
    "            pixel_array.append(im_array)\n",
    "\n",
    "pd_dict = {\n",
    "    'pixel_array' : pixel_array,\n",
    "    'category' : category,\n",
    "}\n",
    "df = pd.DataFrame(pd_dict)\n",
    "df['category'] = pd.to_numeric(df['category'])\n",
    "df = shuffle(df)"
   ]
  },
  {
   "cell_type": "code",
   "execution_count": 4,
   "metadata": {
    "scrolled": true
   },
   "outputs": [
    {
     "name": "stdout",
     "output_type": "stream",
     "text": [
      "(2063, 2)\n",
      "<class 'pandas.core.frame.DataFrame'>\n",
      "Int64Index: 2063 entries, 53 to 821\n",
      "Data columns (total 2 columns):\n",
      "pixel_array    2063 non-null object\n",
      "category       2063 non-null int64\n",
      "dtypes: int64(1), object(1)\n",
      "memory usage: 48.4+ KB\n"
     ]
    },
    {
     "data": {
      "text/html": [
       "<div>\n",
       "<style scoped>\n",
       "    .dataframe tbody tr th:only-of-type {\n",
       "        vertical-align: middle;\n",
       "    }\n",
       "\n",
       "    .dataframe tbody tr th {\n",
       "        vertical-align: top;\n",
       "    }\n",
       "\n",
       "    .dataframe thead th {\n",
       "        text-align: right;\n",
       "    }\n",
       "</style>\n",
       "<table border=\"1\" class=\"dataframe\">\n",
       "  <thead>\n",
       "    <tr style=\"text-align: right;\">\n",
       "      <th></th>\n",
       "      <th>pixel_array</th>\n",
       "      <th>category</th>\n",
       "    </tr>\n",
       "  </thead>\n",
       "  <tbody>\n",
       "    <tr>\n",
       "      <th>53</th>\n",
       "      <td>[255.0, 255.0, 255.0, 255.0, 255.0, 255.0, 255...</td>\n",
       "      <td>1</td>\n",
       "    </tr>\n",
       "    <tr>\n",
       "      <th>250</th>\n",
       "      <td>[0.0, 0.0, 0.0, 0.0, 0.0, 0.0, 0.0, 0.0, 0.0, ...</td>\n",
       "      <td>3</td>\n",
       "    </tr>\n",
       "    <tr>\n",
       "      <th>379</th>\n",
       "      <td>[0.0, 0.0, 0.0, 0.0, 0.0, 0.0, 0.0, 0.0, 0.0, ...</td>\n",
       "      <td>3</td>\n",
       "    </tr>\n",
       "    <tr>\n",
       "      <th>330</th>\n",
       "      <td>[0.0, 0.0, 0.0, 0.0, 0.0, 0.0, 0.0, 0.0, 0.0, ...</td>\n",
       "      <td>3</td>\n",
       "    </tr>\n",
       "    <tr>\n",
       "      <th>1153</th>\n",
       "      <td>[0.0, 0.0, 0.0, 0.0, 0.0, 0.0, 0.0, 0.0, 0.0, ...</td>\n",
       "      <td>6</td>\n",
       "    </tr>\n",
       "  </tbody>\n",
       "</table>\n",
       "</div>"
      ],
      "text/plain": [
       "                                            pixel_array  category\n",
       "53    [255.0, 255.0, 255.0, 255.0, 255.0, 255.0, 255...         1\n",
       "250   [0.0, 0.0, 0.0, 0.0, 0.0, 0.0, 0.0, 0.0, 0.0, ...         3\n",
       "379   [0.0, 0.0, 0.0, 0.0, 0.0, 0.0, 0.0, 0.0, 0.0, ...         3\n",
       "330   [0.0, 0.0, 0.0, 0.0, 0.0, 0.0, 0.0, 0.0, 0.0, ...         3\n",
       "1153  [0.0, 0.0, 0.0, 0.0, 0.0, 0.0, 0.0, 0.0, 0.0, ...         6"
      ]
     },
     "execution_count": 4,
     "metadata": {},
     "output_type": "execute_result"
    }
   ],
   "source": [
    "print(df.shape)\n",
    "df.info()\n",
    "df.head()"
   ]
  },
  {
   "cell_type": "markdown",
   "metadata": {},
   "source": [
    "#### Spit into Training and Testing Datasets"
   ]
  },
  {
   "cell_type": "code",
   "execution_count": 5,
   "metadata": {},
   "outputs": [],
   "source": [
    "# Splitting Training and Testing Data\n",
    "X_train, X_test, y_train, y_test = train_test_split(df['pixel_array'],\n",
    "                                                    df['category'],\n",
    "                                                    test_size = 0.2,\n",
    "                                                    random_state=42,\n",
    "                                                    stratify=df['category'])\n",
    "X_train = X_train.tolist()\n",
    "X_test = X_test.tolist()"
   ]
  },
  {
   "cell_type": "markdown",
   "metadata": {},
   "source": [
    "### Decision Tree - Hyperparameter Tuning"
   ]
  },
  {
   "cell_type": "code",
   "execution_count": 6,
   "metadata": {},
   "outputs": [
    {
     "name": "stderr",
     "output_type": "stream",
     "text": [
      "C:\\ProgramData\\Anaconda3\\lib\\site-packages\\sklearn\\model_selection\\_search.py:841: DeprecationWarning: The default of the `iid` parameter will change from True to False in version 0.22 and will be removed in 0.24. This will change numeric results when test-set sizes are unequal.\n",
      "  DeprecationWarning)\n"
     ]
    },
    {
     "name": "stdout",
     "output_type": "stream",
     "text": [
      "Tuned Decision Tree Parameters: {'criterion': 'entropy', 'max_depth': None, 'max_features': 6, 'min_samples_leaf': 1}\n",
      "\n",
      "Tuned Decision Tree Model Best score is 0.6284848484848485\n"
     ]
    }
   ],
   "source": [
    "# Setup the parameters and distributions to sample from: param_dist\n",
    "param_dist = {\"max_depth\": [3, 6, 9, None],\n",
    "              \"max_features\": randint(6, 9),\n",
    "              \"min_samples_leaf\": randint(1, 3),\n",
    "              \"criterion\": [\"gini\", \"entropy\"]}\n",
    "\n",
    "# Instantiate Decision Tree Model\n",
    "dtree_model = DecisionTreeClassifier()\n",
    "\n",
    "# Instantiate the RandomizedSearchCV object\n",
    "tree_cv = RandomizedSearchCV(dtree_model, param_dist, cv=4)\n",
    "\n",
    "# Fit to the data\n",
    "tree_cv.fit(X_train, y_train)\n",
    "\n",
    "# Print the tuned parameters and best score\n",
    "print(\"Tuned Decision Tree Parameters: {}\\n\".format(tree_cv.best_params_))\n",
    "print(\"Tuned Decision Tree Model Best score is {}\".format(tree_cv.best_score_))"
   ]
  },
  {
   "cell_type": "markdown",
   "metadata": {},
   "source": [
    "### Decision Tree - Confusion Matrix, Classification Report, ROC Curve"
   ]
  },
  {
   "cell_type": "code",
   "execution_count": 7,
   "metadata": {
    "scrolled": true
   },
   "outputs": [
    {
     "name": "stdout",
     "output_type": "stream",
     "text": [
      "\n",
      "Confusion Matrix : \n",
      " [[ 7  0  4  2  2  0  0  0  0  0  0  1]\n",
      " [ 0 20  0  1  1  0  0  0  0  0  1  0]\n",
      " [ 2  0 35  3  4  0  5  0  1  1  1  0]\n",
      " [ 2  2  1 10  1  0  2  1  0  0  3  2]\n",
      " [ 0  1  1  3 14  4  4  2  1  0  5  0]\n",
      " [ 1  0  1  0  4 58  1  0 22  2  2  1]\n",
      " [ 0  1  2  4  1  0 23  1  1  1  0  2]\n",
      " [ 0  0  2  0  0  0  1 13  1  1  0  0]\n",
      " [ 0  0  0  0  0 21  1  0 20  1  3  1]\n",
      " [ 0  0  0  0  1  1  2  1  1  2  0  0]\n",
      " [ 0  0  2  2  3  0  1  0  1  1 28  1]\n",
      " [ 0  0  1  5  0  0  0  1  0  0  3 13]]\n",
      "\n",
      "Classification Report : \n",
      "               precision    recall  f1-score   support\n",
      "\n",
      "           1       0.58      0.44      0.50        16\n",
      "           2       0.83      0.87      0.85        23\n",
      "           3       0.71      0.67      0.69        52\n",
      "           4       0.33      0.42      0.37        24\n",
      "           5       0.45      0.40      0.42        35\n",
      "           6       0.69      0.63      0.66        92\n",
      "           7       0.57      0.64      0.61        36\n",
      "           8       0.68      0.72      0.70        18\n",
      "           9       0.42      0.43      0.42        47\n",
      "          10       0.22      0.25      0.24         8\n",
      "          11       0.61      0.72      0.66        39\n",
      "          12       0.62      0.57      0.59        23\n",
      "\n",
      "   micro avg       0.59      0.59      0.59       413\n",
      "   macro avg       0.56      0.56      0.56       413\n",
      "weighted avg       0.59      0.59      0.59       413\n",
      "\n"
     ]
    },
    {
     "name": "stderr",
     "output_type": "stream",
     "text": [
      "C:\\ProgramData\\Anaconda3\\lib\\site-packages\\sklearn\\model_selection\\_split.py:652: Warning: The least populated class in y has only 8 members, which is too few. The minimum number of members in any class cannot be less than n_splits=10.\n",
      "  % (min_groups, self.n_splits)), Warning)\n"
     ]
    },
    {
     "name": "stdout",
     "output_type": "stream",
     "text": [
      "\n",
      "Decision Tree Model Accuracy : \n",
      " 0.5456681542430346\n"
     ]
    }
   ],
   "source": [
    "# Instantiate a Decision Tree Classifier\n",
    "dtree_model = DecisionTreeClassifier(max_depth=None,\n",
    "                                     max_features=6,\n",
    "                                     min_samples_leaf=1,\n",
    "                                     criterion='entropy')\n",
    "\n",
    "# Fit to the data\n",
    "dtree_model.fit(X_train, y_train)\n",
    "\n",
    "# Predicting labels from testing data\n",
    "y_pred_dtree = dtree_model.predict(X_test)\n",
    "\n",
    "# Confusion matrix\n",
    "cm = confusion_matrix(y_test, y_pred_dtree)\n",
    "print('\\nConfusion Matrix : \\n', cm)\n",
    "\n",
    "# Classification report\n",
    "report = classification_report(y_test, y_pred_dtree)\n",
    "print(\"\\nClassification Report : \\n\", report)\n",
    "\n",
    "# Model accuracy computed with 5-fold cross-validation scores\n",
    "cv_scores_tree = cross_val_score(dtree_model, X_test, y_test, cv=10)\n",
    "print('\\nDecision Tree Model Accuracy : \\n', np.mean(cv_scores_tree))"
   ]
  },
  {
   "cell_type": "markdown",
   "metadata": {},
   "source": [
    "### SVM - Hyperparameter Tuning"
   ]
  },
  {
   "cell_type": "code",
   "execution_count": null,
   "metadata": {},
   "outputs": [
    {
     "name": "stderr",
     "output_type": "stream",
     "text": [
      "C:\\ProgramData\\Anaconda3\\lib\\site-packages\\sklearn\\model_selection\\_search.py:271: UserWarning: The total space of parameters 6 is smaller than n_iter=10. Running 6 iterations. For exhaustive searches, use GridSearchCV.\n",
      "  % (grid_size, self.n_iter, grid_size), UserWarning)\n"
     ]
    }
   ],
   "source": [
    "# Specify the hyperparameter space\n",
    "parameters = {'C':[1, 10, 100],\n",
    "              'kernel':['linear', 'rbf'],\n",
    "              'gamma':[0.00001, 0.0001, 0.001, 0.01, 0.1]}\n",
    "\n",
    "# Instantiate an SVM classifier\n",
    "svm_model = SVC()\n",
    "\n",
    "# Instantiate the RandomizedSearchCV object\n",
    "searcher = RandomizedSearchCV(svm_model, parameters, cv=5)\n",
    "\n",
    "# Fit to the training set\n",
    "searcher.fit(X_train, y_train)\n",
    "\n",
    "# Print the tuned parameters and best score\n",
    "print(\"Tuned Model Parameters: {}\".format(searcher.best_params_))\n",
    "print(\"Tuned Model Score: {}\".format(searcher.best_score_))"
   ]
  },
  {
   "cell_type": "markdown",
   "metadata": {},
   "source": [
    "### SVM - Confusion Matrix, Classification Report, ROC Curve"
   ]
  },
  {
   "cell_type": "code",
   "execution_count": 8,
   "metadata": {
    "scrolled": true
   },
   "outputs": [
    {
     "name": "stdout",
     "output_type": "stream",
     "text": [
      "\n",
      "SVM Model Accuracy :  0.8068695527688403\n"
     ]
    }
   ],
   "source": [
    "# Instantiate an SVM classifier\n",
    "svm_model_linear = SVC(kernel = 'linear', C = 1)\n",
    "\n",
    "# Fit to the data\n",
    "svm_model_linear.fit(X_train, y_train)\n",
    "\n",
    "# Predicting labels from testing data\n",
    "y_pred_svm = svm_model_linear.predict(X_test)\n",
    "\n",
    "# Confusion matrix\n",
    "cm = confusion_matrix(y_test, y_pred_svm)\n",
    "\n",
    "# Model accuracy computed with 5-fold cross-validation scores\n",
    "cv_scores_svm = cross_val_score(svm_model_linear, X_test, y_test, cv=5)\n",
    "print('\\nSVM Model Accuracy : ', np.mean(cv_scores_svm))"
   ]
  }
 ],
 "metadata": {
  "kernelspec": {
   "display_name": "Python 3",
   "language": "python",
   "name": "python3"
  },
  "language_info": {
   "codemirror_mode": {
    "name": "ipython",
    "version": 3
   },
   "file_extension": ".py",
   "mimetype": "text/x-python",
   "name": "python",
   "nbconvert_exporter": "python",
   "pygments_lexer": "ipython3",
   "version": "3.7.1"
  }
 },
 "nbformat": 4,
 "nbformat_minor": 2
}
