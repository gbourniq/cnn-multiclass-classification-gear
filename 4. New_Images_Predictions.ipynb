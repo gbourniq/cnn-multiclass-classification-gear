{
 "cells": [
  {
   "cell_type": "markdown",
   "metadata": {},
   "source": [
    "## Predicting Class for New Images using a Deep Learning Model\n",
    "\n",
    "In this notebook, we will use the image pre-processing functions as well as the saved Deep Learning model in order to predict the class of new images. "
   ]
  },
  {
   "cell_type": "code",
   "execution_count": 1,
   "metadata": {},
   "outputs": [
    {
     "name": "stderr",
     "output_type": "stream",
     "text": [
      "Using TensorFlow backend.\n"
     ]
    }
   ],
   "source": [
    "import numpy as np\n",
    "from PIL import Image\n",
    "from PIL import ImageOps\n",
    "import sys\n",
    "import os\n",
    "import requests\n",
    "from io import BytesIO\n",
    "\n",
    "from keras.models import load_model"
   ]
  },
  {
   "cell_type": "code",
   "execution_count": 2,
   "metadata": {},
   "outputs": [],
   "source": [
    "def resize(image_path):\n",
    "    \"\"\"\n",
    "    Pick a basic color (Black) and pad the images that do not have a 1:1 aspect ratio.\n",
    "    Reshape without stretching to a 128x128 pixel array shape\n",
    "    \"\"\"\n",
    "    \n",
    "    im = Image.open(image_path)\n",
    "        \n",
    "    desired_size = 128\n",
    "    old_size = im.size  # old_size[0] is in (width, height) format\n",
    "\n",
    "    ratio = float(desired_size)/max(old_size)\n",
    "    new_size = tuple([int(x*ratio) for x in old_size])\n",
    "\n",
    "    im = im.resize(new_size, Image.ANTIALIAS)\n",
    "    \n",
    "    # create a new image and paste the resized on it\n",
    "    new_im = Image.new(\"RGB\", (desired_size, desired_size))\n",
    "    new_im.paste(im, ((desired_size-new_size[0])//2,\n",
    "                        (desired_size-new_size[1])//2))\n",
    "\n",
    "    delta_w = desired_size - new_size[0]\n",
    "    delta_h = desired_size - new_size[1]\n",
    "    padding = (delta_w//2, delta_h//2, delta_w-(delta_w//2), delta_h-(delta_h//2))\n",
    "    new_im = ImageOps.expand(im, padding)\n",
    "\n",
    "    filename, file_extension = os.path.splitext(image_path)\n",
    "    new_filename = filename + \"_resized.jpeg\"\n",
    "    new_im.save(new_filename, \"JPEG\")\n",
    "    \n",
    "    return new_filename"
   ]
  },
  {
   "cell_type": "code",
   "execution_count": 3,
   "metadata": {},
   "outputs": [],
   "source": [
    "def equalize_image(image_path): #\"imagename_resized.JPEG\"\n",
    "    \"\"\"\n",
    "    Ensure for each image that the pixel range is [0,255] (constrast stretching)\n",
    "    by applying the equalise method (normalise works also)\n",
    "    \"\"\"\n",
    "    im = Image.open(image_path)\n",
    "    \n",
    "    # Plotting histogram for resized image\n",
    "    #im_array = np.array(im)\n",
    "    #plt.hist(im_array.flatten(), bins=50, range=(0.0, 300))\n",
    "    \n",
    "    # Equalize image\n",
    "    im_out = ImageOps.equalize(im)\n",
    "    \n",
    "    # Save equalized image\n",
    "    filename, file_extension = os.path.splitext(image_path) \n",
    "    new_filename = filename + \"_equalized.jpeg\"\n",
    "    im_out.save(new_filename, \"JPEG\")\n",
    "    \n",
    "    return new_filename"
   ]
  },
  {
   "cell_type": "code",
   "execution_count": 4,
   "metadata": {},
   "outputs": [],
   "source": [
    "def image_to_array(image_path):\n",
    "    \"\"\"\n",
    "    Input: Image path\n",
    "    Output: Flatten array of 3x128x128 image pixels in range[0,255]\n",
    "    \"\"\"\n",
    "    im = Image.open(image_path)\n",
    "    return np.array(im, dtype=float)"
   ]
  },
  {
   "cell_type": "code",
   "execution_count": 5,
   "metadata": {},
   "outputs": [],
   "source": [
    "def label_decoder(key):\n",
    "    label_mapping = {\n",
    "        \"1\" : \"axes\",\n",
    "        \"2\" : \"boots\",\n",
    "        \"3\" : \"carabiners\",\n",
    "        \"4\" : \"crampons\",\n",
    "        \"5\" : \"gloves\",\n",
    "        \"6\" : \"hardshell_jackets\",\n",
    "        \"7\" : \"harnesses\",\n",
    "        \"8\" : \"helmets\",\n",
    "        \"9\" : \"insulated_jackets\",\n",
    "        \"10\" : \"pulleys\",\n",
    "        \"11\" : \"rope\",\n",
    "        \"12\" : \"tents\",\n",
    "    }\n",
    "    return label_mapping[key]"
   ]
  },
  {
   "cell_type": "code",
   "execution_count": 18,
   "metadata": {},
   "outputs": [],
   "source": [
    "def run_model(data):\n",
    "    \"\"\"\n",
    "    Load Keras model (.yaml) and weights (.h5), and predict image label\n",
    "    Input: Image pixels array\n",
    "    Output: Predicted label\n",
    "    \"\"\"\n",
    "    \n",
    "    # Load Keras Model\n",
    "    loaded_model = load_model('gear_classifier.model')\n",
    "\n",
    "    # Predict results array (array of 12 elements, one 1.0 and 11 are 0.0's)\n",
    "    result_array = loaded_model.predict(data).tolist()[0]\n",
    "    \n",
    "    # Get the position of the element 1.0 within the array\n",
    "    index = result_array.index(max(result_array)) + 1\n",
    "    \n",
    "    # Decode results\n",
    "    predicted_label = label_decoder(str(index))\n",
    "    \n",
    "    return predicted_label"
   ]
  },
  {
   "cell_type": "markdown",
   "metadata": {},
   "source": [
    "### Running the model on new image data"
   ]
  },
  {
   "cell_type": "code",
   "execution_count": 19,
   "metadata": {},
   "outputs": [],
   "source": [
    "def main(image_path):\n",
    "    # Pre-process image\n",
    "    print('Image :', image_path.split('/')[1])\n",
    "    resized_image_path = resize(image_path)\n",
    "    preprocessed_img_path = equalize_image(resized_image_path)\n",
    "\n",
    "    # Converting image to Numpy array\n",
    "    numpy_data = image_to_array(preprocessed_img_path)\n",
    "    numpy_data = numpy_data.reshape(1, 3, 128, 128)\n",
    "\n",
    "    # Predict label using Keras Mutli-Class model\n",
    "    result_label = run_model(numpy_data)\n",
    "\n",
    "    print('Predicted : ' + result_label + '\\n')\n",
    "\n",
    "    # Cleaning up\n",
    "    os.remove(resized_image_path)\n",
    "    os.remove(preprocessed_img_path)"
   ]
  },
  {
   "cell_type": "code",
   "execution_count": 22,
   "metadata": {
    "scrolled": true
   },
   "outputs": [
    {
     "name": "stdout",
     "output_type": "stream",
     "text": [
      "Image : boots.jpg\n",
      "Predicted : boots\n",
      "\n",
      "Image : carabiners.jpg\n",
      "Predicted : carabiners\n",
      "\n",
      "Image : crampons.jfif\n",
      "Predicted : crampons\n",
      "\n",
      "Image : gloves.jpg\n",
      "Predicted : gloves\n",
      "\n",
      "Image : harness.jpg\n",
      "Predicted : harnesses\n",
      "\n",
      "Image : helmet.jpg\n",
      "Predicted : helmets\n",
      "\n",
      "Image : jacket.jfif\n",
      "Predicted : hardshell_jackets\n",
      "\n",
      "Image : rope.jfif\n",
      "Predicted : rope\n",
      "\n",
      "Image : tent.jfif\n",
      "Predicted : tents\n",
      "\n"
     ]
    }
   ],
   "source": [
    "for filename in os.listdir(\"unseen_images\"):\n",
    "    filepath = 'new_test_images/' + filename\n",
    "    main(filepath)"
   ]
  },
  {
   "cell_type": "code",
   "execution_count": null,
   "metadata": {},
   "outputs": [],
   "source": []
  }
 ],
 "metadata": {
  "kernelspec": {
   "display_name": "Python 3",
   "language": "python",
   "name": "python3"
  },
  "language_info": {
   "codemirror_mode": {
    "name": "ipython",
    "version": 3
   },
   "file_extension": ".py",
   "mimetype": "text/x-python",
   "name": "python",
   "nbconvert_exporter": "python",
   "pygments_lexer": "ipython3",
   "version": "3.7.1"
  }
 },
 "nbformat": 4,
 "nbformat_minor": 2
}
